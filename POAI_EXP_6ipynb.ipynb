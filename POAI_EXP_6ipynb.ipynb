{
  "nbformat": 4,
  "nbformat_minor": 0,
  "metadata": {
    "colab": {
      "provenance": [],
      "authorship_tag": "ABX9TyN/RCyyUAqzRN2mVzQfWBlc",
      "include_colab_link": true
    },
    "kernelspec": {
      "name": "python3",
      "display_name": "Python 3"
    },
    "language_info": {
      "name": "python"
    }
  },
  "cells": [
    {
      "cell_type": "markdown",
      "metadata": {
        "id": "view-in-github",
        "colab_type": "text"
      },
      "source": [
        "<a href=\"https://colab.research.google.com/github/Kishoreraj2024/POAI-EXP-6/blob/main/POAI_EXP_6ipynb.ipynb\" target=\"_parent\"><img src=\"https://colab.research.google.com/assets/colab-badge.svg\" alt=\"Open In Colab\"/></a>"
      ]
    },
    {
      "cell_type": "code",
      "source": [
        "from typing import Union, List, Optional, Dict\n",
        "\n",
        "def unify(x: Union[str, List],\n",
        "          y: Union[str, List],\n",
        "          theta: Optional[Dict] = None) -> Optional[Dict]:\n",
        "    \"\"\"Unify two expressions with substitution theta.\n",
        "    Returns substitution dict if successful, None otherwise.\"\"\"\n",
        "    if theta is None:\n",
        "        theta = {}\n",
        "    if x == y:\n",
        "        return theta\n",
        "    elif isinstance(x, str) and x.islower():  # x is variable\n",
        "        return unify_var(x, y, theta)\n",
        "    elif isinstance(y, str) and y.islower():  # y is variable\n",
        "        return unify_var(y, x, theta)\n",
        "    elif isinstance(x, list) and isinstance(y, list) and len(x) == len(y):\n",
        "        return unify(x[1:], y[1:], unify(x[0], y[0], theta))\n",
        "    else:\n",
        "        return None\n",
        "\n",
        "def unify_var(var: str,\n",
        "              x: Union[str, List],\n",
        "              theta: Dict) -> Optional[Dict]:\n",
        "    \"\"\"Unify a variable with a term.\"\"\"\n",
        "    if var in theta:\n",
        "        return unify(theta[var], x, theta)\n",
        "    elif isinstance(x, str) and x in theta:\n",
        "        return unify(var, theta[x], theta)\n",
        "    elif occurs_check(var, x, theta):\n",
        "        return None\n",
        "    else:\n",
        "        # Copy theta to avoid mutation issues\n",
        "        theta_ = theta.copy()\n",
        "        theta_[var] = x\n",
        "        return theta_\n",
        "\n",
        "def occurs_check(var: str,\n",
        "                 term: Union[str, List],\n",
        "                 theta: Dict) -> bool:\n",
        "    \"\"\"Check if variable occurs in term to prevent infinite loops.\"\"\"\n",
        "    if var == term:\n",
        "        return True\n",
        "    elif isinstance(term, str) and term in theta:\n",
        "        return occurs_check(var, theta[term], theta)\n",
        "    elif isinstance(term, list):\n",
        "        return any(occurs_check(var, subterm, theta) for subterm in term)\n",
        "    else:\n",
        "        return False\n",
        "\n",
        "def substitute(expr: Union[str, List],\n",
        "               theta: Dict) -> Union[str, List]:\n",
        "    \"\"\"Apply substitution to an expression.\"\"\"\n",
        "    if isinstance(expr, str):\n",
        "        return theta.get(expr, expr)\n",
        "    elif isinstance(expr, list):\n",
        "        return [substitute(term, theta) for term in expr]\n",
        "    else:\n",
        "        return expr\n",
        "\n",
        "def resolution(kb: Dict,\n",
        "               query: Union[str, List]) -> bool:\n",
        "    \"\"\"\n",
        "    Resolution algorithm for logical inference.\n",
        "    Returns True if query can be proved, False otherwise.\n",
        "    \"\"\"\n",
        "    # Check facts first\n",
        "    for fact in kb['facts']:\n",
        "        if unify(fact, query, {}):\n",
        "            return True\n",
        "\n",
        "    # Check rules\n",
        "    for rule in kb['rules']:\n",
        "        head, body = rule\n",
        "        theta = unify(head, query, {})\n",
        "        if theta is not None:\n",
        "            # Prove each subgoal with substitution\n",
        "            if all(resolution(kb, substitute(subgoal, theta)) for subgoal in body):\n",
        "                return True\n",
        "    return False\n",
        "\n",
        "def main():\n",
        "    \"\"\"Main execution\"\"\"\n",
        "    # Knowledge Base\n",
        "    knowledge_base = {\n",
        "        'facts': [\n",
        "            ['human', 'john']  # human(john)\n",
        "        ],\n",
        "        'rules': [\n",
        "            # mortal(X) :- human(X)\n",
        "            (['mortal', 'X'], [['human', 'X']])\n",
        "        ]\n",
        "    }\n",
        "\n",
        "    # Query: Is John mortal?\n",
        "    query = ['mortal', 'john']\n",
        "\n",
        "    # Run resolution\n",
        "    print(\"Knowledge Base:\")\n",
        "    print(\"- Facts:\", knowledge_base['facts'])\n",
        "    print(\"- Rules:\", knowledge_base['rules'])\n",
        "    print(\"\\nQuery:\", query)\n",
        "\n",
        "    if resolution(knowledge_base, query):\n",
        "        print(\"\\nResult: SUCCESS - John is mortal!\")\n",
        "    else:\n",
        "        print(\"\\nResult: FAILED - Cannot prove John is mortal\")\n",
        "\n",
        "if __name__ == \"__main__\":\n",
        "    main()\n"
      ],
      "metadata": {
        "id": "7dR-0f-qBsWl",
        "outputId": "51cd472d-23ad-40dd-aa4f-a823edba8fcf",
        "colab": {
          "base_uri": "https://localhost:8080/"
        }
      },
      "execution_count": 19,
      "outputs": [
        {
          "output_type": "stream",
          "name": "stdout",
          "text": [
            "Knowledge Base:\n",
            "- Facts: [['human', 'john']]\n",
            "- Rules: [(['mortal', 'X'], [['human', 'X']])]\n",
            "\n",
            "Query: ['mortal', 'john']\n",
            "\n",
            "Result: SUCCESS - John is mortal!\n"
          ]
        }
      ]
    }
  ]
}